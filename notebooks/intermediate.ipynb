{
 "cells": [
  {
   "cell_type": "code",
   "execution_count": 4,
   "metadata": {},
   "outputs": [
    {
     "name": "stdout",
     "output_type": "stream",
     "text": [
      "           lat       lon  minutes_remaining  period  playoffs  shot_distance  \\\n",
      "1      34.0443 -118.4268                 10       1         0             15   \n",
      "2      33.9093 -118.3708                  7       1         0             16   \n",
      "3      33.8693 -118.1318                  6       1         0             22   \n",
      "4      34.0443 -118.2698                  6       2         0              0   \n",
      "5      34.0553 -118.4148                  9       3         0             14   \n",
      "...        ...       ...                ...     ...       ...            ...   \n",
      "30690  33.9443 -118.3828                 11       4         1             15   \n",
      "30691  34.0443 -118.2698                  7       4         1              0   \n",
      "30692  33.9963 -118.2688                  6       4         1              4   \n",
      "30694  33.8783 -118.4038                  3       4         1             21   \n",
      "30696  33.9723 -118.2688                  0       4         1              7   \n",
      "\n",
      "       shot_made_flag  \n",
      "1                 0.0  \n",
      "2                 1.0  \n",
      "3                 0.0  \n",
      "4                 1.0  \n",
      "5                 0.0  \n",
      "...               ...  \n",
      "30690             0.0  \n",
      "30691             0.0  \n",
      "30692             0.0  \n",
      "30694             1.0  \n",
      "30696             0.0  \n",
      "\n",
      "[20285 rows x 7 columns]\n"
     ]
    }
   ],
   "source": [
    "import pyarrow.parquet as pq\n",
    "import pandas as pd\n",
    "\n",
    "# Absolute path to the folder containing the parquet file\n",
    "folder_path = \"C:/Users/shtsu/Codigos/23E1_3/projeto/data/02_intermediate/\"\n",
    "\n",
    "# Read the parquet file into a PyArrow table\n",
    "table = pq.read_table(f\"{folder_path}/data_filtered.parquet\")\n",
    "\n",
    "# Convert the table to a pandas dataframe\n",
    "df = table.to_pandas()\n",
    "\n",
    "print(df)"
   ]
  },
  {
   "cell_type": "code",
   "execution_count": 5,
   "metadata": {},
   "outputs": [],
   "source": [
    "from sklearn.model_selection import train_test_split\n",
    "\n",
    "# define o dataframe de entrada e a variável alvo\n",
    "X = df.drop('shot_made_flag', axis=1)\n",
    "y = df['shot_made_flag']\n",
    "\n",
    "# separa os dados em treino e teste com uma escolha aleatória e estratificada\n",
    "X_train, X_test, y_train, y_test = train_test_split(X, y, test_size=0.2, stratify=y, random_state=42)\n",
    "\n",
    "# armazena os datasets resultantes\n",
    "X_train.to_parquet(\"C:/Users/shtsu/Codigos/23E1_3/projeto/data/03_primary/X_train.parquet\")\n",
    "X_test.to_parquet(\"C:/Users/shtsu/Codigos/23E1_3/projeto/data/03_primary/X_test.parquet\")\n",
    "\n",
    "y_train.to_frame().to_parquet(\"C:/Users/shtsu/Codigos/23E1_3/projeto/data/03_primary/y_train.parquet\")\n",
    "y_test.to_frame().to_parquet(\"C:/Users/shtsu/Codigos/23E1_3/projeto/data/03_primary/y_test.parquet\")\n"
   ]
  },
  {
   "cell_type": "code",
   "execution_count": 8,
   "metadata": {},
   "outputs": [],
   "source": [
    "data=df"
   ]
  },
  {
   "cell_type": "code",
   "execution_count": 10,
   "metadata": {},
   "outputs": [
    {
     "data": {
      "text/plain": [
       "[(0.0, 10602), (1.0, 9683)]"
      ]
     },
     "execution_count": 10,
     "metadata": {},
     "output_type": "execute_result"
    }
   ],
   "source": [
    "list(data['shot_made_flag'].value_counts().items())"
   ]
  }
 ],
 "metadata": {
  "kernelspec": {
   "display_name": "22E1_Kobe",
   "language": "python",
   "name": "python3"
  },
  "language_info": {
   "codemirror_mode": {
    "name": "ipython",
    "version": 3
   },
   "file_extension": ".py",
   "mimetype": "text/x-python",
   "name": "python",
   "nbconvert_exporter": "python",
   "pygments_lexer": "ipython3",
   "version": "3.9.16"
  },
  "orig_nbformat": 4
 },
 "nbformat": 4,
 "nbformat_minor": 2
}
