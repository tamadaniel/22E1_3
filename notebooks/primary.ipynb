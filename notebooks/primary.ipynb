{
 "cells": [
  {
   "cell_type": "code",
   "execution_count": 4,
   "id": "947982df",
   "metadata": {},
   "outputs": [
    {
     "name": "stdout",
     "output_type": "stream",
     "text": [
      "         action_type combined_shot_type  game_event_id   game_id      lat  \\\n",
      "0          Jump Shot          Jump Shot             10  20000012  33.9723   \n",
      "1          Jump Shot          Jump Shot             12  20000012  34.0443   \n",
      "2          Jump Shot          Jump Shot             35  20000012  33.9093   \n",
      "3          Jump Shot          Jump Shot             43  20000012  33.8693   \n",
      "4  Driving Dunk Shot               Dunk            155  20000012  34.0443   \n",
      "\n",
      "   loc_x  loc_y       lon  minutes_remaining  period  ...       shot_type  \\\n",
      "0    167     72 -118.1028                 10       1  ...  2PT Field Goal   \n",
      "1   -157      0 -118.4268                 10       1  ...  2PT Field Goal   \n",
      "2   -101    135 -118.3708                  7       1  ...  2PT Field Goal   \n",
      "3    138    175 -118.1318                  6       1  ...  2PT Field Goal   \n",
      "4      0      0 -118.2698                  6       2  ...  2PT Field Goal   \n",
      "\n",
      "          shot_zone_area  shot_zone_basic  shot_zone_range     team_id  \\\n",
      "0          Right Side(R)        Mid-Range        16-24 ft.  1610612747   \n",
      "1           Left Side(L)        Mid-Range         8-16 ft.  1610612747   \n",
      "2   Left Side Center(LC)        Mid-Range        16-24 ft.  1610612747   \n",
      "3  Right Side Center(RC)        Mid-Range        16-24 ft.  1610612747   \n",
      "4              Center(C)  Restricted Area  Less Than 8 ft.  1610612747   \n",
      "\n",
      "            team_name   game_date    matchup opponent  shot_id  \n",
      "0  Los Angeles Lakers  2000-10-31  LAL @ POR      POR        1  \n",
      "1  Los Angeles Lakers  2000-10-31  LAL @ POR      POR        2  \n",
      "2  Los Angeles Lakers  2000-10-31  LAL @ POR      POR        3  \n",
      "3  Los Angeles Lakers  2000-10-31  LAL @ POR      POR        4  \n",
      "4  Los Angeles Lakers  2000-10-31  LAL @ POR      POR        5  \n",
      "\n",
      "[5 rows x 25 columns]\n"
     ]
    }
   ],
   "source": [
    "import pandas as pd\n",
    "\n",
    "# absolute path to the CSV file\n",
    "file_path = \"C:/Users/shtsu/Codigos/23E1_3/projeto/data/01_raw/kobe_dataset.csv\"\n",
    "\n",
    "# read the CSV file into a pandas dataframe\n",
    "df = pd.read_csv(file_path)\n",
    "\n",
    "# print the first few rows of the dataframe\n",
    "print(df.head())\n"
   ]
  },
  {
   "cell_type": "code",
   "execution_count": 5,
   "id": "c991e35b",
   "metadata": {},
   "outputs": [
    {
     "name": "stdout",
     "output_type": "stream",
     "text": [
      "       lat       lon  minutes_remaining  period  playoffs  shot_distance  \\\n",
      "1  34.0443 -118.4268                 10       1         0             15   \n",
      "2  33.9093 -118.3708                  7       1         0             16   \n",
      "3  33.8693 -118.1318                  6       1         0             22   \n",
      "4  34.0443 -118.2698                  6       2         0              0   \n",
      "5  34.0553 -118.4148                  9       3         0             14   \n",
      "\n",
      "   shot_made_flag  \n",
      "1             0.0  \n",
      "2             1.0  \n",
      "3             0.0  \n",
      "4             1.0  \n",
      "5             0.0  \n",
      "<bound method DataFrame.info of            lat       lon  minutes_remaining  period  playoffs  shot_distance  \\\n",
      "1      34.0443 -118.4268                 10       1         0             15   \n",
      "2      33.9093 -118.3708                  7       1         0             16   \n",
      "3      33.8693 -118.1318                  6       1         0             22   \n",
      "4      34.0443 -118.2698                  6       2         0              0   \n",
      "5      34.0553 -118.4148                  9       3         0             14   \n",
      "...        ...       ...                ...     ...       ...            ...   \n",
      "30690  33.9443 -118.3828                 11       4         1             15   \n",
      "30691  34.0443 -118.2698                  7       4         1              0   \n",
      "30692  33.9963 -118.2688                  6       4         1              4   \n",
      "30694  33.8783 -118.4038                  3       4         1             21   \n",
      "30696  33.9723 -118.2688                  0       4         1              7   \n",
      "\n",
      "       shot_made_flag  \n",
      "1                 0.0  \n",
      "2                 1.0  \n",
      "3                 0.0  \n",
      "4                 1.0  \n",
      "5                 0.0  \n",
      "...               ...  \n",
      "30690             0.0  \n",
      "30691             0.0  \n",
      "30692             0.0  \n",
      "30694             1.0  \n",
      "30696             0.0  \n",
      "\n",
      "[20285 rows x 7 columns]>\n"
     ]
    }
   ],
   "source": [
    "# filter column with 2PT Field Goal\n",
    "filtered_df = df[df['shot_type'].str.contains('2PT Field Goal')]\n",
    "\n",
    "# create a new dataframe with only the specified columns\n",
    "filtered_df = filtered_df.loc[:, ['lat', 'lon', 'minutes_remaining', 'period', 'playoffs', 'shot_distance','shot_made_flag']]\n",
    "\n",
    "# drop rows with missing values\n",
    "filtered_df = filtered_df.dropna()\n",
    "\n",
    "# print filtered dataframe\n",
    "print(filtered_df.head())\n",
    "\n",
    "print(filtered_df.info)\n"
   ]
  },
  {
   "cell_type": "code",
   "execution_count": 6,
   "id": "03e424ea",
   "metadata": {},
   "outputs": [],
   "source": [
    "# save the filtered dataframe to a parquet file\n",
    "file_path_filtered = \"C:/Users/shtsu/Codigos/23E1_3/projeto/data/02_intermediate/data_filtered.parquet\"\n",
    "filtered_df.to_parquet(file_path_filtered)"
   ]
  },
  {
   "cell_type": "code",
   "execution_count": 1,
   "id": "ba6e1d16",
   "metadata": {},
   "outputs": [],
   "source": [
    "def importar_dados():\n",
    "\n",
    "    import pandas as pd\n",
    "\n",
    "    # absolute path to the CSV file\n",
    "    file_path = \"C:/Users/shtsu/Codigos/23E1_3/projeto/data/01_raw/kobe_dataset.csv\"\n",
    "\n",
    "    # read the CSV file into a pandas dataframe\n",
    "    df = pd.read_csv(file_path)\n",
    "\n",
    "    # filter column with 2PT Field Goal\n",
    "    filtered_df = df[df['shot_type'].str.contains('2PT Field Goal')]\n",
    "\n",
    "    # create a new dataframe with only the specified columns\n",
    "    filtered_df = filtered_df.loc[:, ['lat', 'lon', 'minutes_remaining', 'period', 'playoffs', 'shot_distance','shot_made_flag']]\n",
    "\n",
    "    # drop rows with missing values\n",
    "    filtered_df = filtered_df.dropna()\n",
    "\n",
    "\n",
    "    # save the filtered dataframe to a parquet file\n",
    "    file_path_filtered = \"C:/Users/shtsu/Codigos/23E1_3/projeto/data/02_intermediate/data_filtered.parquet\"\n",
    "    filtered_df.to_parquet(file_path_filtered)"
   ]
  },
  {
   "cell_type": "code",
   "execution_count": 2,
   "id": "8926b9fa",
   "metadata": {},
   "outputs": [],
   "source": [
    "importar_dados()"
   ]
  }
 ],
 "metadata": {
  "kernelspec": {
   "display_name": "22E1_Kobe",
   "language": "python",
   "name": "python3"
  },
  "language_info": {
   "codemirror_mode": {
    "name": "ipython",
    "version": 3
   },
   "file_extension": ".py",
   "mimetype": "text/x-python",
   "name": "python",
   "nbconvert_exporter": "python",
   "pygments_lexer": "ipython3",
   "version": "3.9.16"
  },
  "vscode": {
   "interpreter": {
    "hash": "c052cb4ce068a1c829a251d2be2af6b5c5b7be9f54e14750594331d05d95b7b9"
   }
  }
 },
 "nbformat": 4,
 "nbformat_minor": 5
}
